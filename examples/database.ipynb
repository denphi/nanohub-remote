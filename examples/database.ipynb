{
 "cells": [
  {
   "cell_type": "code",
   "execution_count": null,
   "metadata": {},
   "outputs": [],
   "source": [
    "from mysecrets import auth_data_dev\n",
    "import nanohub.remote as nr\n",
    "import pandas as pd\n",
    "import json"
   ]
  },
  {
   "cell_type": "markdown",
   "metadata": {},
   "source": [
    "# Create Session with credentials"
   ]
  },
  {
   "cell_type": "code",
   "execution_count": null,
   "metadata": {},
   "outputs": [],
   "source": [
    "a = nr.Session(auth_data, url=\"https://dev.nanohub.org/api\")"
   ]
  },
  {
   "cell_type": "markdown",
   "metadata": {},
   "source": [
    "### Query valid services"
   ]
  },
  {
   "cell_type": "code",
   "execution_count": null,
   "metadata": {},
   "outputs": [],
   "source": [
    "a.requestGet('querycache/squidlog', data={})"
   ]
  },
  {
   "cell_type": "markdown",
   "metadata": {},
   "source": [
    "### Query available tools"
   ]
  },
  {
   "cell_type": "code",
   "execution_count": null,
   "metadata": {},
   "outputs": [],
   "source": [
    "a.requestGet('querycache/squidlog/tools', data={})"
   ]
  },
  {
   "cell_type": "markdown",
   "metadata": {},
   "source": [
    "### Query input/output description of a tool"
   ]
  },
  {
   "cell_type": "code",
   "execution_count": null,
   "metadata": {},
   "outputs": [],
   "source": [
    "tool = \"complam\"\n",
    "a.requestGet('querycache/squidlog/tool_detail', data={'tool':tool})"
   ]
  },
  {
   "cell_type": "code",
   "execution_count": null,
   "metadata": {},
   "outputs": [],
   "source": [
    "search = {\n",
    "    'tool':tool,\n",
    "    'filters':json.dumps([\n",
    "        {'field':'input.E1', 'value':'0', 'operation':'>='},\n",
    "    ]),\n",
    "    'results':json.dumps([\n",
    "        'input.E1',\n",
    "        'input.B1',\n",
    "        'input.E2',\n",
    "        'output.alphax',\n",
    "    ]),\n",
    "    'limit':20,\n",
    "    'revision':0,\n",
    "    'valid_runs':1,\n",
    "}\n"
   ]
  },
  {
   "cell_type": "markdown",
   "metadata": {},
   "source": [
    "### Return statistics of a query"
   ]
  },
  {
   "cell_type": "code",
   "execution_count": null,
   "metadata": {},
   "outputs": [],
   "source": [
    "a.requestPost('querycache/squidlog/stats', data=search)"
   ]
  },
  {
   "cell_type": "markdown",
   "metadata": {},
   "source": [
    "### Return results of a query"
   ]
  },
  {
   "cell_type": "code",
   "execution_count": null,
   "metadata": {},
   "outputs": [],
   "source": [
    "a.requestPost('querycache/squidlog/search', data=search)"
   ]
  },
  {
   "cell_type": "code",
   "execution_count": null,
   "metadata": {},
   "outputs": [],
   "source": [
    "search2 = {\n",
    "    'tool':'pntoy',\n",
    "    'filters':json.dumps([\n",
    "        {'field':'input.p_node', 'value':'2', 'operation':'>='},\n",
    "        {'field':'input.p_node', 'value':'5', 'operation':'<='},\n",
    "    ]),\n",
    "    'results':json.dumps([\n",
    "        'input.p_node',\n",
    "        'output.ro',\n",
    "    ]),\n",
    "    'limit':5,\n",
    "    'revision':0\n",
    "}\n",
    "a.requestPost('querycache/squidlog/search', data=search2)"
   ]
  },
  {
   "cell_type": "code",
   "execution_count": null,
   "metadata": {},
   "outputs": [],
   "source": []
  }
 ],
 "metadata": {
  "kernelspec": {
   "display_name": "Python 3",
   "language": "python",
   "name": "python3"
  },
  "language_info": {
   "codemirror_mode": {
    "name": "ipython",
    "version": 3
   },
   "file_extension": ".py",
   "mimetype": "text/x-python",
   "name": "python",
   "nbconvert_exporter": "python",
   "pygments_lexer": "ipython3",
   "version": "3.6.6"
  }
 },
 "nbformat": 4,
 "nbformat_minor": 2
}
