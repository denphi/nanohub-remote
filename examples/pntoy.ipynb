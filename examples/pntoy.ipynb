{
 "cells": [
  {
   "cell_type": "code",
   "execution_count": 1,
   "metadata": {},
   "outputs": [],
   "source": [
    "import nanohub.remote as nr\n",
    "import pandas as pd"
   ]
  },
  {
   "cell_type": "code",
   "execution_count": 2,
   "metadata": {},
   "outputs": [],
   "source": [
    "auth_data = {\n",
    "  'client_id': 'XXXXXXXX',\n",
    "  'client_secret': 'XXXXXXXX',\n",
    "  'grant_type': 'password',\n",
    "  'username': 'XXXXXXXX',\n",
    "  'password': 'XXXXXXXX'\n",
    "}\n",
    "\n",
    "# to get client id and secret, create a web application (https://nanohub.org/developer/api/applications/new), use \"https://127.0.0.1\" as Redirect URL\n",
    "# to get username and password, register on nanohub.org (https://nanohub.org/register/)"
   ]
  },
  {
   "cell_type": "code",
   "execution_count": 3,
   "metadata": {},
   "outputs": [],
   "source": [
    "import os\n",
    "auth_data = {\n",
    "    'grant_type' : 'tool',\n",
    "}\n",
    "with open(os.environ[\"SESSIONDIR\"]+\"/resources\") as file:\n",
    "    lines = [line.split(\" \", 1) for line in file.readlines()]\n",
    "    properties = {line[0].strip(): line[1].strip() for line in lines if len(line)==2}\n",
    "    auth_data[\"sessiontoken\"] = properties[\"session_token\"]\n",
    "    auth_data[\"sessionnum\"] = properties[\"sessionid\"]"
   ]
  },
  {
   "cell_type": "code",
   "execution_count": 4,
   "metadata": {},
   "outputs": [],
   "source": [
    "a = nr.Tools(auth_data)"
   ]
  },
  {
   "cell_type": "code",
   "execution_count": 5,
   "metadata": {},
   "outputs": [],
   "source": [
    "params = a.getToolParameters('pntoy')"
   ]
  },
  {
   "cell_type": "code",
   "execution_count": null,
   "metadata": {},
   "outputs": [],
   "source": []
  },
  {
   "cell_type": "code",
   "execution_count": 6,
   "metadata": {},
   "outputs": [
    {
     "data": {
      "text/html": [
       "<div>\n",
       "<style scoped>\n",
       "    .dataframe tbody tr th:only-of-type {\n",
       "        vertical-align: middle;\n",
       "    }\n",
       "\n",
       "    .dataframe tbody tr th {\n",
       "        vertical-align: top;\n",
       "    }\n",
       "\n",
       "    .dataframe thead th {\n",
       "        text-align: right;\n",
       "    }\n",
       "</style>\n",
       "<table border=\"1\" class=\"dataframe\">\n",
       "  <thead>\n",
       "    <tr style=\"text-align: right;\">\n",
       "      <th></th>\n",
       "      <th>current</th>\n",
       "      <th>default</th>\n",
       "      <th>description</th>\n",
       "      <th>id</th>\n",
       "      <th>label</th>\n",
       "      <th>max</th>\n",
       "      <th>min</th>\n",
       "      <th>options</th>\n",
       "      <th>type</th>\n",
       "      <th>units</th>\n",
       "    </tr>\n",
       "  </thead>\n",
       "  <tbody>\n",
       "    <tr>\n",
       "      <th>0</th>\n",
       "      <td>3</td>\n",
       "      <td>3</td>\n",
       "      <td>Physical length of P-type material.</td>\n",
       "      <td>p_len</td>\n",
       "      <td>P-type length</td>\n",
       "      <td>1.000000e+02</td>\n",
       "      <td>0.0</td>\n",
       "      <td>NaN</td>\n",
       "      <td>Number</td>\n",
       "      <td>um</td>\n",
       "    </tr>\n",
       "    <tr>\n",
       "      <th>1</th>\n",
       "      <td>NaN</td>\n",
       "      <td>60</td>\n",
       "      <td>Number of plotted points along the length of t...</td>\n",
       "      <td>p_node</td>\n",
       "      <td>P-type Nodes</td>\n",
       "      <td>1.000000e+03</td>\n",
       "      <td>0.0</td>\n",
       "      <td>NaN</td>\n",
       "      <td>Integer</td>\n",
       "      <td>NaN</td>\n",
       "    </tr>\n",
       "    <tr>\n",
       "      <th>2</th>\n",
       "      <td>NaN</td>\n",
       "      <td>0</td>\n",
       "      <td>Physical length of the intrinsic region (zero ...</td>\n",
       "      <td>i_len</td>\n",
       "      <td>Intrinsic Region length</td>\n",
       "      <td>1.000000e+02</td>\n",
       "      <td>0.0</td>\n",
       "      <td>NaN</td>\n",
       "      <td>Number</td>\n",
       "      <td>um</td>\n",
       "    </tr>\n",
       "    <tr>\n",
       "      <th>3</th>\n",
       "      <td>NaN</td>\n",
       "      <td>0</td>\n",
       "      <td>Number of plotted points along the length of t...</td>\n",
       "      <td>i_node</td>\n",
       "      <td>Intrinsic Nodes</td>\n",
       "      <td>1.000000e+03</td>\n",
       "      <td>0.0</td>\n",
       "      <td>NaN</td>\n",
       "      <td>Integer</td>\n",
       "      <td>NaN</td>\n",
       "    </tr>\n",
       "    <tr>\n",
       "      <th>4</th>\n",
       "      <td>NaN</td>\n",
       "      <td>6</td>\n",
       "      <td>Physical length of N-type material.</td>\n",
       "      <td>n_len</td>\n",
       "      <td>N-type length</td>\n",
       "      <td>1.000000e+02</td>\n",
       "      <td>0.0</td>\n",
       "      <td>NaN</td>\n",
       "      <td>Number</td>\n",
       "      <td>um</td>\n",
       "    </tr>\n",
       "    <tr>\n",
       "      <th>5</th>\n",
       "      <td>NaN</td>\n",
       "      <td>120</td>\n",
       "      <td>Number of plotted points along the length of t...</td>\n",
       "      <td>n_node</td>\n",
       "      <td>N-type Nodes</td>\n",
       "      <td>1.000000e+03</td>\n",
       "      <td>0.0</td>\n",
       "      <td>NaN</td>\n",
       "      <td>Integer</td>\n",
       "      <td>NaN</td>\n",
       "    </tr>\n",
       "    <tr>\n",
       "      <th>6</th>\n",
       "      <td>Si</td>\n",
       "      <td>Si</td>\n",
       "      <td>Set the type of material used for the entire r...</td>\n",
       "      <td>materialp</td>\n",
       "      <td>Material</td>\n",
       "      <td>NaN</td>\n",
       "      <td>NaN</td>\n",
       "      <td>[(GaAs, GaAs), (Ge, Ge), (Si, Si), (InP, InP)]</td>\n",
       "      <td>Choice</td>\n",
       "      <td>NaN</td>\n",
       "    </tr>\n",
       "    <tr>\n",
       "      <th>7</th>\n",
       "      <td>NaN</td>\n",
       "      <td>1e-10</td>\n",
       "      <td>This is the minority carrier lifetime for elec...</td>\n",
       "      <td>taun</td>\n",
       "      <td>For electrons</td>\n",
       "      <td>NaN</td>\n",
       "      <td>0.0</td>\n",
       "      <td>NaN</td>\n",
       "      <td>Number</td>\n",
       "      <td>s</td>\n",
       "    </tr>\n",
       "    <tr>\n",
       "      <th>8</th>\n",
       "      <td>NaN</td>\n",
       "      <td>1e-10</td>\n",
       "      <td>This is the minority carrier lifetime for hole...</td>\n",
       "      <td>taup</td>\n",
       "      <td>For holes</td>\n",
       "      <td>NaN</td>\n",
       "      <td>0.0</td>\n",
       "      <td>NaN</td>\n",
       "      <td>Number</td>\n",
       "      <td>s</td>\n",
       "    </tr>\n",
       "    <tr>\n",
       "      <th>9</th>\n",
       "      <td>NaN</td>\n",
       "      <td>no</td>\n",
       "      <td>Here you define if any impurity doping level e...</td>\n",
       "      <td>impurity</td>\n",
       "      <td>Impurity doping in Intrinsic region.</td>\n",
       "      <td>NaN</td>\n",
       "      <td>NaN</td>\n",
       "      <td>NaN</td>\n",
       "      <td>Boolean</td>\n",
       "      <td>NaN</td>\n",
       "    </tr>\n",
       "    <tr>\n",
       "      <th>10</th>\n",
       "      <td>NaN</td>\n",
       "      <td>Ptype</td>\n",
       "      <td>Here you define type of doping for in the intr...</td>\n",
       "      <td>impuritydoping</td>\n",
       "      <td>Type of doping</td>\n",
       "      <td>NaN</td>\n",
       "      <td>NaN</td>\n",
       "      <td>[(N-type, Ntype), (P-type, Ptype)]</td>\n",
       "      <td>Choice</td>\n",
       "      <td>NaN</td>\n",
       "    </tr>\n",
       "    <tr>\n",
       "      <th>11</th>\n",
       "      <td>NaN</td>\n",
       "      <td>1e+13</td>\n",
       "      <td>Unintentional doping in the intrinsic region.</td>\n",
       "      <td>impuritylevel</td>\n",
       "      <td>Doping level</td>\n",
       "      <td>1.000000e+26</td>\n",
       "      <td>0.0</td>\n",
       "      <td>NaN</td>\n",
       "      <td>Number</td>\n",
       "      <td>/cm3</td>\n",
       "    </tr>\n",
       "    <tr>\n",
       "      <th>12</th>\n",
       "      <td>300</td>\n",
       "      <td>300</td>\n",
       "      <td>This is the temperature in the environment aro...</td>\n",
       "      <td>temperature</td>\n",
       "      <td>Ambient temperature</td>\n",
       "      <td>5.000000e+02</td>\n",
       "      <td>77.0</td>\n",
       "      <td>NaN</td>\n",
       "      <td>Number</td>\n",
       "      <td>K</td>\n",
       "    </tr>\n",
       "    <tr>\n",
       "      <th>13</th>\n",
       "      <td>0.6</td>\n",
       "      <td>0.6</td>\n",
       "      <td>Set an applied voltage across the PIN Junction...</td>\n",
       "      <td>vsweep_high</td>\n",
       "      <td>Applied Voltage</td>\n",
       "      <td>5.000000e+00</td>\n",
       "      <td>-5.0</td>\n",
       "      <td>NaN</td>\n",
       "      <td>Number</td>\n",
       "      <td>V</td>\n",
       "    </tr>\n",
       "    <tr>\n",
       "      <th>14</th>\n",
       "      <td>20</td>\n",
       "      <td>20</td>\n",
       "      <td>Set the number data points sampled in the volt...</td>\n",
       "      <td>vn_step</td>\n",
       "      <td>Number of points</td>\n",
       "      <td>NaN</td>\n",
       "      <td>2.0</td>\n",
       "      <td>NaN</td>\n",
       "      <td>Integer</td>\n",
       "      <td>NaN</td>\n",
       "    </tr>\n",
       "    <tr>\n",
       "      <th>15</th>\n",
       "      <td>2e+15</td>\n",
       "      <td>2e+15</td>\n",
       "      <td></td>\n",
       "      <td>Na</td>\n",
       "      <td>Acceptor concentration (Na-)</td>\n",
       "      <td>2.000000e+22</td>\n",
       "      <td>1.0</td>\n",
       "      <td>NaN</td>\n",
       "      <td>Number</td>\n",
       "      <td>/cm3</td>\n",
       "    </tr>\n",
       "    <tr>\n",
       "      <th>16</th>\n",
       "      <td>1e+15</td>\n",
       "      <td>1e+15</td>\n",
       "      <td></td>\n",
       "      <td>Nd</td>\n",
       "      <td>Donor concentration (Nd+)</td>\n",
       "      <td>2.000000e+22</td>\n",
       "      <td>1.0</td>\n",
       "      <td>NaN</td>\n",
       "      <td>Number</td>\n",
       "      <td>/cm3</td>\n",
       "    </tr>\n",
       "  </tbody>\n",
       "</table>\n",
       "</div>"
      ],
      "text/plain": [
       "   current default                                        description  \\\n",
       "0        3       3                Physical length of P-type material.   \n",
       "1      NaN      60  Number of plotted points along the length of t...   \n",
       "2      NaN       0  Physical length of the intrinsic region (zero ...   \n",
       "3      NaN       0  Number of plotted points along the length of t...   \n",
       "4      NaN       6                Physical length of N-type material.   \n",
       "5      NaN     120  Number of plotted points along the length of t...   \n",
       "6       Si      Si  Set the type of material used for the entire r...   \n",
       "7      NaN   1e-10  This is the minority carrier lifetime for elec...   \n",
       "8      NaN   1e-10  This is the minority carrier lifetime for hole...   \n",
       "9      NaN      no  Here you define if any impurity doping level e...   \n",
       "10     NaN   Ptype  Here you define type of doping for in the intr...   \n",
       "11     NaN   1e+13      Unintentional doping in the intrinsic region.   \n",
       "12     300     300  This is the temperature in the environment aro...   \n",
       "13     0.6     0.6  Set an applied voltage across the PIN Junction...   \n",
       "14      20      20  Set the number data points sampled in the volt...   \n",
       "15   2e+15   2e+15                                                      \n",
       "16   1e+15   1e+15                                                      \n",
       "\n",
       "                id                                 label           max   min  \\\n",
       "0            p_len                         P-type length  1.000000e+02   0.0   \n",
       "1           p_node                          P-type Nodes  1.000000e+03   0.0   \n",
       "2            i_len               Intrinsic Region length  1.000000e+02   0.0   \n",
       "3           i_node                       Intrinsic Nodes  1.000000e+03   0.0   \n",
       "4            n_len                         N-type length  1.000000e+02   0.0   \n",
       "5           n_node                          N-type Nodes  1.000000e+03   0.0   \n",
       "6        materialp                              Material           NaN   NaN   \n",
       "7             taun                         For electrons           NaN   0.0   \n",
       "8             taup                             For holes           NaN   0.0   \n",
       "9         impurity  Impurity doping in Intrinsic region.           NaN   NaN   \n",
       "10  impuritydoping                        Type of doping           NaN   NaN   \n",
       "11   impuritylevel                          Doping level  1.000000e+26   0.0   \n",
       "12     temperature                   Ambient temperature  5.000000e+02  77.0   \n",
       "13     vsweep_high                       Applied Voltage  5.000000e+00  -5.0   \n",
       "14         vn_step                      Number of points           NaN   2.0   \n",
       "15              Na          Acceptor concentration (Na-)  2.000000e+22   1.0   \n",
       "16              Nd             Donor concentration (Nd+)  2.000000e+22   1.0   \n",
       "\n",
       "                                           options     type units  \n",
       "0                                              NaN   Number    um  \n",
       "1                                              NaN  Integer   NaN  \n",
       "2                                              NaN   Number    um  \n",
       "3                                              NaN  Integer   NaN  \n",
       "4                                              NaN   Number    um  \n",
       "5                                              NaN  Integer   NaN  \n",
       "6   [(GaAs, GaAs), (Ge, Ge), (Si, Si), (InP, InP)]   Choice   NaN  \n",
       "7                                              NaN   Number     s  \n",
       "8                                              NaN   Number     s  \n",
       "9                                              NaN  Boolean   NaN  \n",
       "10              [(N-type, Ntype), (P-type, Ptype)]   Choice   NaN  \n",
       "11                                             NaN   Number  /cm3  \n",
       "12                                             NaN   Number     K  \n",
       "13                                             NaN   Number     V  \n",
       "14                                             NaN  Integer   NaN  \n",
       "15                                             NaN   Number  /cm3  \n",
       "16                                             NaN   Number  /cm3  "
      ]
     },
     "execution_count": 6,
     "metadata": {},
     "output_type": "execute_result"
    }
   ],
   "source": [
    "pd.DataFrame([p.to_dict() for p in params.values()])"
   ]
  },
  {
   "cell_type": "code",
   "execution_count": null,
   "metadata": {},
   "outputs": [],
   "source": []
  },
  {
   "cell_type": "code",
   "execution_count": 7,
   "metadata": {},
   "outputs": [
    {
     "data": {
      "text/plain": [
       "{'type' : 'Number', 'id' : 'p_len', 'current' : 3.0, 'description' : 'Physical length of P-type material.', 'label' : 'P-type length', 'units' : 'um', 'default' : 3, 'min' : 0.0, 'max' : 100.0, }"
      ]
     },
     "execution_count": 7,
     "metadata": {},
     "output_type": "execute_result"
    }
   ],
   "source": [
    "params['p_len']"
   ]
  },
  {
   "cell_type": "code",
   "execution_count": 12,
   "metadata": {},
   "outputs": [
    {
     "data": {
      "text/plain": [
       "{'job_id': '1994331', 'results': None}"
      ]
     },
     "execution_count": 12,
     "metadata": {},
     "output_type": "execute_result"
    }
   ],
   "source": [
    "job_id = a.submitTool(params)\n",
    "job_id"
   ]
  },
  {
   "cell_type": "code",
   "execution_count": 15,
   "metadata": {},
   "outputs": [
    {
     "data": {
      "text/plain": [
       "{'success': True,\n",
       " 'status': ['2022-03-04T11:31:04-0500 nanohub_1994331_15 rappture 163 [usage] job=1 event=[click] start=2.205268 walltime=0 cputime=0 status=0 squid=pntoy/56/a81c1e6572fb88b5e3ad62e94a4af3ca1176d142 ',\n",
       "  '2022-03-04T11:31:04-0500 nanohub_1994331_15 rappture 163 [status] run finished',\n",
       "  '2022-03-04T11:31:05-0500 nanohub_1994331_15 rappture 163 [status] output saved in /home/nanohub/denphi/data/results/1994331/run1646411464885000.xml',\n",
       "  '2022-03-04T11:31:05-0500 nanohub_1994331_15 rappture 163 [status] exit 0'],\n",
       " 'finished': True,\n",
       " 'run_file': 'run1646411464885000.xml'}"
      ]
     },
     "execution_count": 15,
     "metadata": {},
     "output_type": "execute_result"
    }
   ],
   "source": [
    "a.checkStatus(job_id['job_id'])"
   ]
  },
  {
   "cell_type": "code",
   "execution_count": 16,
   "metadata": {},
   "outputs": [],
   "source": [
    "results = a.getResults(job_id['job_id'], verbose=False)"
   ]
  },
  {
   "cell_type": "code",
   "execution_count": 17,
   "metadata": {
    "scrolled": false
   },
   "outputs": [
    {
     "data": {
      "text/plain": [
       "[(0, 'qfn', 'curve'),\n",
       " (1, 'qfn2', 'curve'),\n",
       " (2, 'qfp', 'curve'),\n",
       " (3, 'qfp2', 'curve'),\n",
       " (4, 'p', 'curve'),\n",
       " (5, 'n', 'curve'),\n",
       " (6, 'Nd', 'curve'),\n",
       " (7, 'ro', 'curve'),\n",
       " (8, 'potx', 'curve'),\n",
       " (9, 'eix', 'curve'),\n",
       " (10, 'ecx', 'curve'),\n",
       " (11, 'evx', 'curve'),\n",
       " (12, 'ef', 'curve'),\n",
       " (13, 'cap', 'curve'),\n",
       " (14, 'iv', 'curve'),\n",
       " (15, 's1', 'sequence'),\n",
       " (16, 's0', 'sequence'),\n",
       " (17, 's2', 'sequence'),\n",
       " (18, 's3', 'sequence'),\n",
       " (19, 's4', 'sequence'),\n",
       " (20, 's5', 'sequence'),\n",
       " (21, 's6', 'sequence'),\n",
       " (22, 's7', 'sequence'),\n",
       " (23, 'potx_dda', 'curve'),\n",
       " (24, 'ef_ddae', 'curve'),\n",
       " (25, 'ro_ddaq', 'curve'),\n",
       " (26, 'params', 'string')]"
      ]
     },
     "execution_count": 17,
     "metadata": {},
     "output_type": "execute_result"
    }
   ],
   "source": [
    "[(i, r.id, r.type) for i,r in enumerate(results)]"
   ]
  },
  {
   "cell_type": "code",
   "execution_count": 18,
   "metadata": {},
   "outputs": [
    {
     "data": {
      "text/plain": [
       "('qfn', 'Efn - quasi Fermi level for electrons')"
      ]
     },
     "execution_count": 18,
     "metadata": {},
     "output_type": "execute_result"
    }
   ],
   "source": [
    "results[0].id, results[0].value[\"about\"][\"label\"]"
   ]
  },
  {
   "cell_type": "code",
   "execution_count": 19,
   "metadata": {},
   "outputs": [
    {
     "data": {
      "application/vnd.jupyter.widget-view+json": {
       "model_id": "a9f959b625964363b658fb9c2bb175d8",
       "version_major": 2,
       "version_minor": 0
      },
      "text/plain": [
       "FigureWidget({\n",
       "    'data': [{'type': 'scatter',\n",
       "              'uid': '92b1878c-3e03-4860-ab8e-81f5ad2f1009',\n",
       " …"
      ]
     },
     "metadata": {},
     "output_type": "display_data"
    }
   ],
   "source": [
    "from plotly.graph_objects import FigureWidget\n",
    "import numpy as np\n",
    "xy = results[0].value[\"component\"][\"xy\"]\n",
    "xy = np.fromstring(xy, sep=' ')\n",
    "xy = np.reshape(xy, (int(len(xy)/2) , 2))\n",
    "x = xy[:,0]\n",
    "y = xy[:,1]\n",
    "trace = {\n",
    "    'type':'scatter',\n",
    "    'x' : x,\n",
    "    'y' : y,\n",
    "}\n",
    "layout = {\n",
    "    'title':results[0].value[\"about\"][\"label\"],\n",
    "    'xaxis':{\n",
    "        'title':results[0].value[\"xaxis\"]['label']\n",
    "    },\n",
    "    'yaxis':{\n",
    "        'title':results[0].value[\"yaxis\"]['label']\n",
    "    },\n",
    "}\n",
    "fig = FigureWidget(data=[trace], layout=layout)\n",
    "fig"
   ]
  },
  {
   "cell_type": "code",
   "execution_count": null,
   "metadata": {},
   "outputs": [],
   "source": []
  }
 ],
 "metadata": {
  "kernelspec": {
   "display_name": "Python 3",
   "language": "python",
   "name": "python3"
  },
  "language_info": {
   "codemirror_mode": {
    "name": "ipython",
    "version": 3
   },
   "file_extension": ".py",
   "mimetype": "text/x-python",
   "name": "python",
   "nbconvert_exporter": "python",
   "pygments_lexer": "ipython3",
   "version": "3.7.7"
  },
  "widgets": {
   "application/vnd.jupyter.widget-state+json": {
    "state": {
     "a3aaf4d5e5eb4782835336908847ef2f": {
      "buffers": [
       {
        "data": "AAAAAAAAAABke6fwla7xP8LUosprPQFACa3U+Ao4CUAKT/VLRGYQQL8Chvf//xNA/UUf3x0RFUBEe4rhkxQWQH/5PMoQCxdAyTdNpzr1F0AxlU85r9MYQOnKnl0EpxlAiXVQc8hvGkALlR+7gi4bQGCwirKz4xtAv6FjatWPHEDVdAvZWzMdQMNQkSi1zh1AudvpAEpiHkCBbnHOfe4eQPc+5QSvcx9AmYcGXzfyH0D/TYYNNjUgQJceCRpPbiBAwD5STI2kIEAC3kovFdggQJmDHXoJCSFAtc+YJ4s3IUC2kGeMuWMhQMXqK2yyjSFAHvKMDZK1IUCaqEJNc9shQNxQL7Bv/yFA6COQdJ8hIkC0d1KiGUIiQIPnlxr0YCJA1HRzpkN+IkDHc+oEHJoiQODvQfiPtCJALNChUrHNIkDBfRYCkeUiQMOF+Bs//CJA93XC58oRI0Ao6VvpQiYjQH3k4Oq0OSNADQ3sBS5MI0D9zmmsul0jQG7n+rBmbiNApiDrTj1+I0DPhcIxSY0jQLSbdXyUmyNABEI50CipI0Bn/v9SD7YjQCsvo7VQwiNAzii+OfXNI0AOQD63BNkjQCQaq6GG4yNAoRIsDYLtI0CVHk2z/fYjQL8Chvf//yNAjtzajwIAJEClIIBbBQAkQIE1a8UHACRAkWPBvgoAJEDLvcxoDgAkQCBpjYwQACRAa+KP7BIAJEDd0HOPFQAkQFwelHwYACRAK5UbvBsAJEBfNRtXHwAkQAoeo1cjACRAOC7dyCcAJED/YC+3LAAkQLZNXTAyACRA8l+rQzgAJED0zQ8CPwAkQBT4Wn5GACRAMvZwzU4AJEBhbYEGWAAkQESQSkNiACRAcx9coG0AJEC4T209egAkQI8csD2IACRAXTg5yJcAJED5jGQIqQAkQMWoWC68ACRAknCCb9EAJECZCTQH6QAkQHrnQjcDASRAwsbESCABJEBD9taMQAEkQMtohV1kASRAID3BHowBJEC+NXw/uAEkQBmG2jrpASRABreOmR8CJEAuLFDzWwIkQMoSjPCeAiRAUc0xTOkCJEBgO8PVOwMkQDMclXOXAyRAfXFSJf0DJEA7UsYGbgQkQMAM81LrBCRA4AqAZ3YFJECcEo3IEAYkQCO/6yS8BiRAe6jOWnoHJEAJRwZ9TQgkQNrXw9g3CSRATOkI/DsKJEBqk8m8XAskQBKu0UCdDCRAlqyTBgEOJEBzsuPuiw8kQCmMy0dCESRAbL2O2CgTJEDN3AHvRBUkQGNNU26cFyRADyx93zUaJED1XH+DGB0kQMhJoWdMICRASmjle9ojJEDDa/6rzCckQJuH+votLCRAPkADogoxJECQgnYycDYkQNepwrttPCRA/9Nw9RNDJEDPv8ltdUokQMsRnL2mUiRAeAq8wb5bJEDCRcva1mUkQEJdDDQLcSRA2UMAEnt9JEDy0aUpSYskQAx6VQGcmiRABidFXJ6rJEAIU9ixf74kQL0+HrJ00yRAY7rQ2LfqJEDYCZMQigQlQFekEGgzISVAVPoY2wNBJUAztNMxVGQlQK7CfviGiyVACel0kgm3JUBa825rVeclQAxzW0rxHCZAey58yXJYJkCRhN/3f5omQKyWzijR4yZA5hsq9jI1J0CGSGN7iI8nQPAQRc/N8ydAaGxqwxpjKEDIlSPxpd4oQBuBNRzIZylAwxD79P//KUAfiqrpf2AqQB2w/BDTxSpACRZ5LTcwK0B4uy4Y7Z8rQMshOug4FSxABjBGHGKQLEBU8h/GsxEtQCXWd7h8mS1Akpfttg8oLkDqXIKow70uQKaAkszzWi9AzfJv8v//L0A=",
        "encoding": "base64",
        "path": [
         "_data",
         0,
         "x",
         "value"
        ]
       },
       {
        "data": "MPx/TK94mjzOvH9Mr3iqPM68f0yveKo8zrx/TK94qjzOvH9Mr3iqPM68f0yveKo8zrx/TK94qjzOvH9Mr3iqPM68f0yveKo8zrx/TK94qjzOvH9Mr3iqPDD8f0yveJo8MPx/TK94mjww/H9Mr3iaPDD8f0yveJo8zrx/TK94qjww/H9Mr3iaPDD8f0yveJo8AAAAAAAAAAAw/H9Mr3iaPDD8f0yveJo8MPx/TK94mjww/H9Mr3iaPAAAAAAAAAAAMPx/TK94mjww/H9Mr3iaPDD8f0yveJo8MPx/TK94mjww/H9Mr3iaPDD8f0yveJo8MPx/TK94mjwAAAAAAAAAADD8f0yveJo8AAAAAAAAAAAAAAAAAAAAADD8f0yveJo8MPx/TK94mjww/H9Mr3iaPDD8f0yveJo8MPx/TK94mjww/H9Mr3iaPM68f0yveKo8MPx/TK94mjww/H9Mr3iaPDD8f0yveJo8zrx/TK94qjww/H9Mr3iaPDD8f0yveJo8MPx/TK94mjww/H9Mr3iaPDD8f0yveJo8MPx/TK94mjww/H9Mr3iaPDD8f0yveJo8MPx/TK94mjww/H9Mr3iaPDD8f0yveJo8MPx/TK94mjww/H9Mr3iaPDD8f0yveJo8MPx/TK94mjww/H9Mr3iaPDD8f0yveJo8MPx/TK94mjww/H9Mr3iaPDD8f0yveJo8MPx/TK94mjww/H9Mr3iaPAAAAAAAAAAAMPx/TK94mjww/H9Mr3iaPDD8f0yveJo8MPx/TK94mjww/H9Mr3iaPDD8f0yveJo8MPx/TK94mjww/H9Mr3iaPDD8f0yveJo8MPx/TK94mjww/H9Mr3iaPDD8f0yveJo8MPx/TK94mjww/H9Mr3iaPDD8f0yveJo8MPx/TK94mjww/H9Mr3iaPDD8f0yveJo8MPx/TK94mjwAAAAAAAAAADD8f0yveJo8MPx/TK94mjwAAAAAAAAAADD8f0yveJo8MPx/TK94mjww/H9Mr3iaPDD8f0yveJo8MPx/TK94mjwAAAAAAAAAADD8f0yveJo8MPx/TK94mjww/H9Mr3iaPDD8f0yveJo8MPx/TK94mjwAAAAAAAAAADD8f0yveJo8MPx/TK94mjww/H9Mr3iaPAAAAAAAAAAAMPx/TK94mjww/H9Mr3iaPDD8f0yveJo8MPx/TK94mjww/H9Mr3iaPDD8f0yveJo8AAAAAAAAAAAAAAAAAAAAADD8f0yveJo8MPx/TK94mjww/H9Mr3iaPDD8f0yveJo8MPx/TK94mjww/H9Mr3iaPAAAAAAAAAAAMPx/TK94mjww/H9Mr3iaPDD8f0yveJo8MPx/TK94mjww/H9Mr3iaPDD8f0yveJo8MPx/TK94mjww/H9Mr3iaPDD8f0yveJo8MPx/TK94mjww/H9Mr3iaPDD8f0yveJo8MPx/TK94mjww/H9Mr3iaPDD8f0yveJo8MPx/TK94mjww/H9Mr3iaPDD8f0yveJo8MPx/TK94mjww/H9Mr3iaPDD8f0yveJo8MPx/TK94mjww/H9Mr3iaPDD8f0yveJo8MPx/TK94mjww/H9Mr3iaPDD8f0yveJo8MPx/TK94mjww/H9Mr3iaPDD8f0yveJo8MPx/TK94mjww/H9Mr3iaPDD8f0yveJo8MPx/TK94mjww/H9Mr3iaPDD8f0yveJo8MPx/TK94mjww/H9Mr3iaPDD8f0yveJo8MPx/TK94mjww/H9Mr3iaPDD8f0yveJo8MPx/TK94mjww/H9Mr3iaPDD8f0yveJo8MPx/TK94mjww/H9Mr3iaPDD8f0yveJo8MPx/TK94mjw=",
        "encoding": "base64",
        "path": [
         "_data",
         0,
         "y",
         "value"
        ]
       }
      ],
      "model_module": "plotlywidget",
      "model_module_version": "^1.1.0",
      "model_name": "FigureModel",
      "state": {
       "_config": {
        "plotlyServerURL": "https://plot.ly"
       },
       "_data": [
        {
         "type": "scatter",
         "uid": "95e4655d-2c04-4057-a00b-cd3dbdb0298e",
         "x": {
          "dtype": "float64",
          "shape": [
           172
          ],
          "value": {}
         },
         "y": {
          "dtype": "float64",
          "shape": [
           172
          ],
          "value": {}
         }
        }
       ],
       "_js2py_relayout": {},
       "_js2py_restyle": {},
       "_js2py_update": {},
       "_layout": {
        "template": {
         "data": {
          "bar": [
           {
            "error_x": {
             "color": "#2a3f5f"
            },
            "error_y": {
             "color": "#2a3f5f"
            },
            "marker": {
             "line": {
              "color": "#E5ECF6",
              "width": 0.5
             }
            },
            "type": "bar"
           }
          ],
          "barpolar": [
           {
            "marker": {
             "line": {
              "color": "#E5ECF6",
              "width": 0.5
             }
            },
            "type": "barpolar"
           }
          ],
          "carpet": [
           {
            "aaxis": {
             "endlinecolor": "#2a3f5f",
             "gridcolor": "white",
             "linecolor": "white",
             "minorgridcolor": "white",
             "startlinecolor": "#2a3f5f"
            },
            "baxis": {
             "endlinecolor": "#2a3f5f",
             "gridcolor": "white",
             "linecolor": "white",
             "minorgridcolor": "white",
             "startlinecolor": "#2a3f5f"
            },
            "type": "carpet"
           }
          ],
          "choropleth": [
           {
            "colorbar": {
             "outlinewidth": 0,
             "ticks": ""
            },
            "type": "choropleth"
           }
          ],
          "contour": [
           {
            "colorbar": {
             "outlinewidth": 0,
             "ticks": ""
            },
            "colorscale": [
             [
              0,
              "#0d0887"
             ],
             [
              0.1111111111111111,
              "#46039f"
             ],
             [
              0.2222222222222222,
              "#7201a8"
             ],
             [
              0.3333333333333333,
              "#9c179e"
             ],
             [
              0.4444444444444444,
              "#bd3786"
             ],
             [
              0.5555555555555556,
              "#d8576b"
             ],
             [
              0.6666666666666666,
              "#ed7953"
             ],
             [
              0.7777777777777778,
              "#fb9f3a"
             ],
             [
              0.8888888888888888,
              "#fdca26"
             ],
             [
              1,
              "#f0f921"
             ]
            ],
            "type": "contour"
           }
          ],
          "contourcarpet": [
           {
            "colorbar": {
             "outlinewidth": 0,
             "ticks": ""
            },
            "type": "contourcarpet"
           }
          ],
          "heatmap": [
           {
            "colorbar": {
             "outlinewidth": 0,
             "ticks": ""
            },
            "colorscale": [
             [
              0,
              "#0d0887"
             ],
             [
              0.1111111111111111,
              "#46039f"
             ],
             [
              0.2222222222222222,
              "#7201a8"
             ],
             [
              0.3333333333333333,
              "#9c179e"
             ],
             [
              0.4444444444444444,
              "#bd3786"
             ],
             [
              0.5555555555555556,
              "#d8576b"
             ],
             [
              0.6666666666666666,
              "#ed7953"
             ],
             [
              0.7777777777777778,
              "#fb9f3a"
             ],
             [
              0.8888888888888888,
              "#fdca26"
             ],
             [
              1,
              "#f0f921"
             ]
            ],
            "type": "heatmap"
           }
          ],
          "heatmapgl": [
           {
            "colorbar": {
             "outlinewidth": 0,
             "ticks": ""
            },
            "colorscale": [
             [
              0,
              "#0d0887"
             ],
             [
              0.1111111111111111,
              "#46039f"
             ],
             [
              0.2222222222222222,
              "#7201a8"
             ],
             [
              0.3333333333333333,
              "#9c179e"
             ],
             [
              0.4444444444444444,
              "#bd3786"
             ],
             [
              0.5555555555555556,
              "#d8576b"
             ],
             [
              0.6666666666666666,
              "#ed7953"
             ],
             [
              0.7777777777777778,
              "#fb9f3a"
             ],
             [
              0.8888888888888888,
              "#fdca26"
             ],
             [
              1,
              "#f0f921"
             ]
            ],
            "type": "heatmapgl"
           }
          ],
          "histogram": [
           {
            "marker": {
             "colorbar": {
              "outlinewidth": 0,
              "ticks": ""
             }
            },
            "type": "histogram"
           }
          ],
          "histogram2d": [
           {
            "colorbar": {
             "outlinewidth": 0,
             "ticks": ""
            },
            "colorscale": [
             [
              0,
              "#0d0887"
             ],
             [
              0.1111111111111111,
              "#46039f"
             ],
             [
              0.2222222222222222,
              "#7201a8"
             ],
             [
              0.3333333333333333,
              "#9c179e"
             ],
             [
              0.4444444444444444,
              "#bd3786"
             ],
             [
              0.5555555555555556,
              "#d8576b"
             ],
             [
              0.6666666666666666,
              "#ed7953"
             ],
             [
              0.7777777777777778,
              "#fb9f3a"
             ],
             [
              0.8888888888888888,
              "#fdca26"
             ],
             [
              1,
              "#f0f921"
             ]
            ],
            "type": "histogram2d"
           }
          ],
          "histogram2dcontour": [
           {
            "colorbar": {
             "outlinewidth": 0,
             "ticks": ""
            },
            "colorscale": [
             [
              0,
              "#0d0887"
             ],
             [
              0.1111111111111111,
              "#46039f"
             ],
             [
              0.2222222222222222,
              "#7201a8"
             ],
             [
              0.3333333333333333,
              "#9c179e"
             ],
             [
              0.4444444444444444,
              "#bd3786"
             ],
             [
              0.5555555555555556,
              "#d8576b"
             ],
             [
              0.6666666666666666,
              "#ed7953"
             ],
             [
              0.7777777777777778,
              "#fb9f3a"
             ],
             [
              0.8888888888888888,
              "#fdca26"
             ],
             [
              1,
              "#f0f921"
             ]
            ],
            "type": "histogram2dcontour"
           }
          ],
          "mesh3d": [
           {
            "colorbar": {
             "outlinewidth": 0,
             "ticks": ""
            },
            "type": "mesh3d"
           }
          ],
          "parcoords": [
           {
            "line": {
             "colorbar": {
              "outlinewidth": 0,
              "ticks": ""
             }
            },
            "type": "parcoords"
           }
          ],
          "scatter": [
           {
            "marker": {
             "colorbar": {
              "outlinewidth": 0,
              "ticks": ""
             }
            },
            "type": "scatter"
           }
          ],
          "scatter3d": [
           {
            "line": {
             "colorbar": {
              "outlinewidth": 0,
              "ticks": ""
             }
            },
            "marker": {
             "colorbar": {
              "outlinewidth": 0,
              "ticks": ""
             }
            },
            "type": "scatter3d"
           }
          ],
          "scattercarpet": [
           {
            "marker": {
             "colorbar": {
              "outlinewidth": 0,
              "ticks": ""
             }
            },
            "type": "scattercarpet"
           }
          ],
          "scattergeo": [
           {
            "marker": {
             "colorbar": {
              "outlinewidth": 0,
              "ticks": ""
             }
            },
            "type": "scattergeo"
           }
          ],
          "scattergl": [
           {
            "marker": {
             "colorbar": {
              "outlinewidth": 0,
              "ticks": ""
             }
            },
            "type": "scattergl"
           }
          ],
          "scattermapbox": [
           {
            "marker": {
             "colorbar": {
              "outlinewidth": 0,
              "ticks": ""
             }
            },
            "type": "scattermapbox"
           }
          ],
          "scatterpolar": [
           {
            "marker": {
             "colorbar": {
              "outlinewidth": 0,
              "ticks": ""
             }
            },
            "type": "scatterpolar"
           }
          ],
          "scatterpolargl": [
           {
            "marker": {
             "colorbar": {
              "outlinewidth": 0,
              "ticks": ""
             }
            },
            "type": "scatterpolargl"
           }
          ],
          "scatterternary": [
           {
            "marker": {
             "colorbar": {
              "outlinewidth": 0,
              "ticks": ""
             }
            },
            "type": "scatterternary"
           }
          ],
          "surface": [
           {
            "colorbar": {
             "outlinewidth": 0,
             "ticks": ""
            },
            "colorscale": [
             [
              0,
              "#0d0887"
             ],
             [
              0.1111111111111111,
              "#46039f"
             ],
             [
              0.2222222222222222,
              "#7201a8"
             ],
             [
              0.3333333333333333,
              "#9c179e"
             ],
             [
              0.4444444444444444,
              "#bd3786"
             ],
             [
              0.5555555555555556,
              "#d8576b"
             ],
             [
              0.6666666666666666,
              "#ed7953"
             ],
             [
              0.7777777777777778,
              "#fb9f3a"
             ],
             [
              0.8888888888888888,
              "#fdca26"
             ],
             [
              1,
              "#f0f921"
             ]
            ],
            "type": "surface"
           }
          ],
          "table": [
           {
            "cells": {
             "fill": {
              "color": "#EBF0F8"
             },
             "line": {
              "color": "white"
             }
            },
            "header": {
             "fill": {
              "color": "#C8D4E3"
             },
             "line": {
              "color": "white"
             }
            },
            "type": "table"
           }
          ]
         },
         "layout": {
          "annotationdefaults": {
           "arrowcolor": "#2a3f5f",
           "arrowhead": 0,
           "arrowwidth": 1
          },
          "colorscale": {
           "diverging": [
            [
             0,
             "#8e0152"
            ],
            [
             0.1,
             "#c51b7d"
            ],
            [
             0.2,
             "#de77ae"
            ],
            [
             0.3,
             "#f1b6da"
            ],
            [
             0.4,
             "#fde0ef"
            ],
            [
             0.5,
             "#f7f7f7"
            ],
            [
             0.6,
             "#e6f5d0"
            ],
            [
             0.7,
             "#b8e186"
            ],
            [
             0.8,
             "#7fbc41"
            ],
            [
             0.9,
             "#4d9221"
            ],
            [
             1,
             "#276419"
            ]
           ],
           "sequential": [
            [
             0,
             "#0d0887"
            ],
            [
             0.1111111111111111,
             "#46039f"
            ],
            [
             0.2222222222222222,
             "#7201a8"
            ],
            [
             0.3333333333333333,
             "#9c179e"
            ],
            [
             0.4444444444444444,
             "#bd3786"
            ],
            [
             0.5555555555555556,
             "#d8576b"
            ],
            [
             0.6666666666666666,
             "#ed7953"
            ],
            [
             0.7777777777777778,
             "#fb9f3a"
            ],
            [
             0.8888888888888888,
             "#fdca26"
            ],
            [
             1,
             "#f0f921"
            ]
           ],
           "sequentialminus": [
            [
             0,
             "#0d0887"
            ],
            [
             0.1111111111111111,
             "#46039f"
            ],
            [
             0.2222222222222222,
             "#7201a8"
            ],
            [
             0.3333333333333333,
             "#9c179e"
            ],
            [
             0.4444444444444444,
             "#bd3786"
            ],
            [
             0.5555555555555556,
             "#d8576b"
            ],
            [
             0.6666666666666666,
             "#ed7953"
            ],
            [
             0.7777777777777778,
             "#fb9f3a"
            ],
            [
             0.8888888888888888,
             "#fdca26"
            ],
            [
             1,
             "#f0f921"
            ]
           ]
          },
          "colorway": [
           "#636efa",
           "#EF553B",
           "#00cc96",
           "#ab63fa",
           "#FFA15A",
           "#19d3f3",
           "#FF6692",
           "#B6E880",
           "#FF97FF",
           "#FECB52"
          ],
          "font": {
           "color": "#2a3f5f"
          },
          "geo": {
           "bgcolor": "white",
           "lakecolor": "white",
           "landcolor": "#E5ECF6",
           "showlakes": true,
           "showland": true,
           "subunitcolor": "white"
          },
          "hoverlabel": {
           "align": "left"
          },
          "hovermode": "closest",
          "mapbox": {
           "style": "light"
          },
          "paper_bgcolor": "white",
          "plot_bgcolor": "#E5ECF6",
          "polar": {
           "angularaxis": {
            "gridcolor": "white",
            "linecolor": "white",
            "ticks": ""
           },
           "bgcolor": "#E5ECF6",
           "radialaxis": {
            "gridcolor": "white",
            "linecolor": "white",
            "ticks": ""
           }
          },
          "scene": {
           "xaxis": {
            "backgroundcolor": "#E5ECF6",
            "gridcolor": "white",
            "gridwidth": 2,
            "linecolor": "white",
            "showbackground": true,
            "ticks": "",
            "zerolinecolor": "white"
           },
           "yaxis": {
            "backgroundcolor": "#E5ECF6",
            "gridcolor": "white",
            "gridwidth": 2,
            "linecolor": "white",
            "showbackground": true,
            "ticks": "",
            "zerolinecolor": "white"
           },
           "zaxis": {
            "backgroundcolor": "#E5ECF6",
            "gridcolor": "white",
            "gridwidth": 2,
            "linecolor": "white",
            "showbackground": true,
            "ticks": "",
            "zerolinecolor": "white"
           }
          },
          "shapedefaults": {
           "line": {
            "color": "#2a3f5f"
           }
          },
          "ternary": {
           "aaxis": {
            "gridcolor": "white",
            "linecolor": "white",
            "ticks": ""
           },
           "baxis": {
            "gridcolor": "white",
            "linecolor": "white",
            "ticks": ""
           },
           "bgcolor": "#E5ECF6",
           "caxis": {
            "gridcolor": "white",
            "linecolor": "white",
            "ticks": ""
           }
          },
          "title": {
           "x": 0.05
          },
          "xaxis": {
           "automargin": true,
           "gridcolor": "white",
           "linecolor": "white",
           "ticks": "",
           "zerolinecolor": "white",
           "zerolinewidth": 2
          },
          "yaxis": {
           "automargin": true,
           "gridcolor": "white",
           "linecolor": "white",
           "ticks": "",
           "zerolinecolor": "white",
           "zerolinewidth": 2
          }
         }
        },
        "title": {
         "text": "Efn - quasi Fermi level for electrons"
        },
        "xaxis": {
         "title": {
          "text": "Position"
         }
        },
        "yaxis": {
         "title": {
          "text": "Energy"
         }
        }
       },
       "_py2js_addTraces": {},
       "_py2js_animate": {},
       "_py2js_deleteTraces": {},
       "_py2js_moveTraces": {},
       "_py2js_removeLayoutProps": {},
       "_py2js_removeTraceProps": {},
       "_py2js_restyle": {},
       "_py2js_update": {},
       "_view_count": 1
      }
     }
    },
    "version_major": 2,
    "version_minor": 0
   }
  }
 },
 "nbformat": 4,
 "nbformat_minor": 2
}
