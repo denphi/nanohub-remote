{
 "cells": [
  {
   "cell_type": "code",
   "execution_count": 1,
   "metadata": {},
   "outputs": [],
   "source": [
    "from mysecrets import auth_data\n",
    "import nanohub.remote as nr\n",
    "import pandas as pd"
   ]
  },
  {
   "cell_type": "code",
   "execution_count": 2,
   "metadata": {},
   "outputs": [],
   "source": [
    "a = nr.Tools(auth_data)"
   ]
  },
  {
   "cell_type": "code",
   "execution_count": 3,
   "metadata": {},
   "outputs": [],
   "source": [
    "params = a.getToolParameters('pntoy')"
   ]
  },
  {
   "cell_type": "code",
   "execution_count": 4,
   "metadata": {},
   "outputs": [
    {
     "data": {
      "text/html": [
       "<div>\n",
       "<style scoped>\n",
       "    .dataframe tbody tr th:only-of-type {\n",
       "        vertical-align: middle;\n",
       "    }\n",
       "\n",
       "    .dataframe tbody tr th {\n",
       "        vertical-align: top;\n",
       "    }\n",
       "\n",
       "    .dataframe thead th {\n",
       "        text-align: right;\n",
       "    }\n",
       "</style>\n",
       "<table border=\"1\" class=\"dataframe\">\n",
       "  <thead>\n",
       "    <tr style=\"text-align: right;\">\n",
       "      <th></th>\n",
       "      <th>current</th>\n",
       "      <th>default</th>\n",
       "      <th>description</th>\n",
       "      <th>id</th>\n",
       "      <th>label</th>\n",
       "      <th>max</th>\n",
       "      <th>min</th>\n",
       "      <th>options</th>\n",
       "      <th>type</th>\n",
       "      <th>units</th>\n",
       "    </tr>\n",
       "  </thead>\n",
       "  <tbody>\n",
       "    <tr>\n",
       "      <th>0</th>\n",
       "      <td>3</td>\n",
       "      <td>3</td>\n",
       "      <td>Physical length of P-type material.</td>\n",
       "      <td>p_len</td>\n",
       "      <td>P-type length</td>\n",
       "      <td>1.000000e+02</td>\n",
       "      <td>0.0</td>\n",
       "      <td>NaN</td>\n",
       "      <td>Number</td>\n",
       "      <td>um</td>\n",
       "    </tr>\n",
       "    <tr>\n",
       "      <th>1</th>\n",
       "      <td>NaN</td>\n",
       "      <td>60</td>\n",
       "      <td>Number of plotted points along the length of t...</td>\n",
       "      <td>p_node</td>\n",
       "      <td>P-type Nodes</td>\n",
       "      <td>1.000000e+03</td>\n",
       "      <td>0.0</td>\n",
       "      <td>NaN</td>\n",
       "      <td>Integer</td>\n",
       "      <td>NaN</td>\n",
       "    </tr>\n",
       "    <tr>\n",
       "      <th>2</th>\n",
       "      <td>NaN</td>\n",
       "      <td>0</td>\n",
       "      <td>Physical length of the intrinsic region (zero ...</td>\n",
       "      <td>i_len</td>\n",
       "      <td>Intrinsic Region length</td>\n",
       "      <td>1.000000e+02</td>\n",
       "      <td>0.0</td>\n",
       "      <td>NaN</td>\n",
       "      <td>Number</td>\n",
       "      <td>um</td>\n",
       "    </tr>\n",
       "    <tr>\n",
       "      <th>3</th>\n",
       "      <td>NaN</td>\n",
       "      <td>0</td>\n",
       "      <td>Number of plotted points along the length of t...</td>\n",
       "      <td>i_node</td>\n",
       "      <td>Intrinsic Nodes</td>\n",
       "      <td>1.000000e+03</td>\n",
       "      <td>0.0</td>\n",
       "      <td>NaN</td>\n",
       "      <td>Integer</td>\n",
       "      <td>NaN</td>\n",
       "    </tr>\n",
       "    <tr>\n",
       "      <th>4</th>\n",
       "      <td>NaN</td>\n",
       "      <td>6</td>\n",
       "      <td>Physical length of N-type material.</td>\n",
       "      <td>n_len</td>\n",
       "      <td>N-type length</td>\n",
       "      <td>1.000000e+02</td>\n",
       "      <td>0.0</td>\n",
       "      <td>NaN</td>\n",
       "      <td>Number</td>\n",
       "      <td>um</td>\n",
       "    </tr>\n",
       "    <tr>\n",
       "      <th>5</th>\n",
       "      <td>NaN</td>\n",
       "      <td>120</td>\n",
       "      <td>Number of plotted points along the length of t...</td>\n",
       "      <td>n_node</td>\n",
       "      <td>N-type Nodes</td>\n",
       "      <td>1.000000e+03</td>\n",
       "      <td>0.0</td>\n",
       "      <td>NaN</td>\n",
       "      <td>Integer</td>\n",
       "      <td>NaN</td>\n",
       "    </tr>\n",
       "    <tr>\n",
       "      <th>6</th>\n",
       "      <td>Si</td>\n",
       "      <td>Si</td>\n",
       "      <td>Set the type of material used for the entire r...</td>\n",
       "      <td>materialp</td>\n",
       "      <td>Material</td>\n",
       "      <td>NaN</td>\n",
       "      <td>NaN</td>\n",
       "      <td>[(GaAs, GaAs), (Ge, Ge), (Si, Si), (InP, InP)]</td>\n",
       "      <td>Choice</td>\n",
       "      <td>NaN</td>\n",
       "    </tr>\n",
       "    <tr>\n",
       "      <th>7</th>\n",
       "      <td>NaN</td>\n",
       "      <td>1e-10</td>\n",
       "      <td>This is the minority carrier lifetime for elec...</td>\n",
       "      <td>taun</td>\n",
       "      <td>For electrons</td>\n",
       "      <td>NaN</td>\n",
       "      <td>0.0</td>\n",
       "      <td>NaN</td>\n",
       "      <td>Number</td>\n",
       "      <td>s</td>\n",
       "    </tr>\n",
       "    <tr>\n",
       "      <th>8</th>\n",
       "      <td>NaN</td>\n",
       "      <td>1e-10</td>\n",
       "      <td>This is the minority carrier lifetime for hole...</td>\n",
       "      <td>taup</td>\n",
       "      <td>For holes</td>\n",
       "      <td>NaN</td>\n",
       "      <td>0.0</td>\n",
       "      <td>NaN</td>\n",
       "      <td>Number</td>\n",
       "      <td>s</td>\n",
       "    </tr>\n",
       "    <tr>\n",
       "      <th>9</th>\n",
       "      <td>NaN</td>\n",
       "      <td>no</td>\n",
       "      <td>NaN</td>\n",
       "      <td>impurity</td>\n",
       "      <td>Impurity doping in Intrinsic region.</td>\n",
       "      <td>NaN</td>\n",
       "      <td>NaN</td>\n",
       "      <td>NaN</td>\n",
       "      <td>Boolean</td>\n",
       "      <td>NaN</td>\n",
       "    </tr>\n",
       "    <tr>\n",
       "      <th>10</th>\n",
       "      <td>NaN</td>\n",
       "      <td>Ptype</td>\n",
       "      <td>Here you define type of doping for in the intr...</td>\n",
       "      <td>impuritydoping</td>\n",
       "      <td>Type of doping</td>\n",
       "      <td>NaN</td>\n",
       "      <td>NaN</td>\n",
       "      <td>[(N-type, Ntype), (P-type, Ptype)]</td>\n",
       "      <td>Choice</td>\n",
       "      <td>NaN</td>\n",
       "    </tr>\n",
       "    <tr>\n",
       "      <th>11</th>\n",
       "      <td>NaN</td>\n",
       "      <td>1e+13</td>\n",
       "      <td>Unintentional doping in the intrinsic region.</td>\n",
       "      <td>impuritylevel</td>\n",
       "      <td>Doping level</td>\n",
       "      <td>1.000000e+26</td>\n",
       "      <td>0.0</td>\n",
       "      <td>NaN</td>\n",
       "      <td>Number</td>\n",
       "      <td>/cm3</td>\n",
       "    </tr>\n",
       "    <tr>\n",
       "      <th>12</th>\n",
       "      <td>300</td>\n",
       "      <td>300</td>\n",
       "      <td>This is the temperature in the environment aro...</td>\n",
       "      <td>temperature</td>\n",
       "      <td>Ambient temperature</td>\n",
       "      <td>5.000000e+02</td>\n",
       "      <td>77.0</td>\n",
       "      <td>NaN</td>\n",
       "      <td>Number</td>\n",
       "      <td>K</td>\n",
       "    </tr>\n",
       "    <tr>\n",
       "      <th>13</th>\n",
       "      <td>0.6</td>\n",
       "      <td>0.6</td>\n",
       "      <td>Set an applied voltage across the PIN Junction...</td>\n",
       "      <td>vsweep_high</td>\n",
       "      <td>Applied Voltage</td>\n",
       "      <td>5.000000e+00</td>\n",
       "      <td>-5.0</td>\n",
       "      <td>NaN</td>\n",
       "      <td>Number</td>\n",
       "      <td>V</td>\n",
       "    </tr>\n",
       "    <tr>\n",
       "      <th>14</th>\n",
       "      <td>20</td>\n",
       "      <td>20</td>\n",
       "      <td>Set the number data points sampled in the volt...</td>\n",
       "      <td>vn_step</td>\n",
       "      <td>Number of points</td>\n",
       "      <td>NaN</td>\n",
       "      <td>2.0</td>\n",
       "      <td>NaN</td>\n",
       "      <td>Integer</td>\n",
       "      <td>NaN</td>\n",
       "    </tr>\n",
       "    <tr>\n",
       "      <th>15</th>\n",
       "      <td>2e+15</td>\n",
       "      <td>2e+15</td>\n",
       "      <td>NaN</td>\n",
       "      <td>Na</td>\n",
       "      <td>Acceptor concentration (Na-)</td>\n",
       "      <td>2.000000e+22</td>\n",
       "      <td>1.0</td>\n",
       "      <td>NaN</td>\n",
       "      <td>Number</td>\n",
       "      <td>/cm3</td>\n",
       "    </tr>\n",
       "    <tr>\n",
       "      <th>16</th>\n",
       "      <td>1e+15</td>\n",
       "      <td>1e+15</td>\n",
       "      <td>NaN</td>\n",
       "      <td>Nd</td>\n",
       "      <td>Donor concentration (Nd+)</td>\n",
       "      <td>2.000000e+22</td>\n",
       "      <td>1.0</td>\n",
       "      <td>NaN</td>\n",
       "      <td>Number</td>\n",
       "      <td>/cm3</td>\n",
       "    </tr>\n",
       "  </tbody>\n",
       "</table>\n",
       "</div>"
      ],
      "text/plain": [
       "   current default                                        description  \\\n",
       "0        3       3                Physical length of P-type material.   \n",
       "1      NaN      60  Number of plotted points along the length of t...   \n",
       "2      NaN       0  Physical length of the intrinsic region (zero ...   \n",
       "3      NaN       0  Number of plotted points along the length of t...   \n",
       "4      NaN       6                Physical length of N-type material.   \n",
       "5      NaN     120  Number of plotted points along the length of t...   \n",
       "6       Si      Si  Set the type of material used for the entire r...   \n",
       "7      NaN   1e-10  This is the minority carrier lifetime for elec...   \n",
       "8      NaN   1e-10  This is the minority carrier lifetime for hole...   \n",
       "9      NaN      no                                                NaN   \n",
       "10     NaN   Ptype  Here you define type of doping for in the intr...   \n",
       "11     NaN   1e+13      Unintentional doping in the intrinsic region.   \n",
       "12     300     300  This is the temperature in the environment aro...   \n",
       "13     0.6     0.6  Set an applied voltage across the PIN Junction...   \n",
       "14      20      20  Set the number data points sampled in the volt...   \n",
       "15   2e+15   2e+15                                                NaN   \n",
       "16   1e+15   1e+15                                                NaN   \n",
       "\n",
       "                id                                 label           max   min  \\\n",
       "0            p_len                         P-type length  1.000000e+02   0.0   \n",
       "1           p_node                          P-type Nodes  1.000000e+03   0.0   \n",
       "2            i_len               Intrinsic Region length  1.000000e+02   0.0   \n",
       "3           i_node                       Intrinsic Nodes  1.000000e+03   0.0   \n",
       "4            n_len                         N-type length  1.000000e+02   0.0   \n",
       "5           n_node                          N-type Nodes  1.000000e+03   0.0   \n",
       "6        materialp                              Material           NaN   NaN   \n",
       "7             taun                         For electrons           NaN   0.0   \n",
       "8             taup                             For holes           NaN   0.0   \n",
       "9         impurity  Impurity doping in Intrinsic region.           NaN   NaN   \n",
       "10  impuritydoping                        Type of doping           NaN   NaN   \n",
       "11   impuritylevel                          Doping level  1.000000e+26   0.0   \n",
       "12     temperature                   Ambient temperature  5.000000e+02  77.0   \n",
       "13     vsweep_high                       Applied Voltage  5.000000e+00  -5.0   \n",
       "14         vn_step                      Number of points           NaN   2.0   \n",
       "15              Na          Acceptor concentration (Na-)  2.000000e+22   1.0   \n",
       "16              Nd             Donor concentration (Nd+)  2.000000e+22   1.0   \n",
       "\n",
       "                                           options     type units  \n",
       "0                                              NaN   Number    um  \n",
       "1                                              NaN  Integer   NaN  \n",
       "2                                              NaN   Number    um  \n",
       "3                                              NaN  Integer   NaN  \n",
       "4                                              NaN   Number    um  \n",
       "5                                              NaN  Integer   NaN  \n",
       "6   [(GaAs, GaAs), (Ge, Ge), (Si, Si), (InP, InP)]   Choice   NaN  \n",
       "7                                              NaN   Number     s  \n",
       "8                                              NaN   Number     s  \n",
       "9                                              NaN  Boolean   NaN  \n",
       "10              [(N-type, Ntype), (P-type, Ptype)]   Choice   NaN  \n",
       "11                                             NaN   Number  /cm3  \n",
       "12                                             NaN   Number     K  \n",
       "13                                             NaN   Number     V  \n",
       "14                                             NaN  Integer   NaN  \n",
       "15                                             NaN   Number  /cm3  \n",
       "16                                             NaN   Number  /cm3  "
      ]
     },
     "execution_count": 4,
     "metadata": {},
     "output_type": "execute_result"
    }
   ],
   "source": [
    "pd.DataFrame([p.to_dict() for p in params.values()])"
   ]
  },
  {
   "cell_type": "code",
   "execution_count": 5,
   "metadata": {},
   "outputs": [],
   "source": [
    "params['p_len'].current = \"10um\""
   ]
  },
  {
   "cell_type": "code",
   "execution_count": 6,
   "metadata": {},
   "outputs": [
    {
     "data": {
      "text/plain": [
       "{'type' : 'Number', 'id' : 'p_len', 'current' : 10.0, 'description' : 'Physical length of P-type material.', 'label' : 'P-type length', 'units' : 'um', 'default' : 3, 'min' : 0.0, 'max' : 100.0, }"
      ]
     },
     "execution_count": 6,
     "metadata": {},
     "output_type": "execute_result"
    }
   ],
   "source": [
    "params['p_len']"
   ]
  },
  {
   "cell_type": "code",
   "execution_count": 7,
   "metadata": {},
   "outputs": [
    {
     "data": {
      "text/plain": [
       "{'job_id': '1558724', 'results': None}"
      ]
     },
     "execution_count": 7,
     "metadata": {},
     "output_type": "execute_result"
    }
   ],
   "source": [
    "job_id = a.submitTool(params)\n",
    "job_id"
   ]
  },
  {
   "cell_type": "code",
   "execution_count": 8,
   "metadata": {},
   "outputs": [
    {
     "data": {
      "text/plain": [
       "{'message': 'No status file found.', 'code': 404}"
      ]
     },
     "execution_count": 8,
     "metadata": {},
     "output_type": "execute_result"
    }
   ],
   "source": [
    "a.checkStatus(job_id['job_id'])"
   ]
  },
  {
   "cell_type": "code",
   "execution_count": 10,
   "metadata": {},
   "outputs": [
    {
     "name": "stdout",
     "output_type": "stream",
     "text": [
      "<Response [200]>\n",
      "{'success': True, 'status': ['2019-12-13T13:56:23-0500 nanoHUB rappture 2067 [status] run finished', '2019-12-13T13:56:23-0500 nanoHUB rappture 2067 [status] output saved in /home/nanohub/denphi/data/results/1558724/run1576263383428000.xml', '2019-12-13T13:56:23-0500 nanoHUB rappture 2067 [status] exit 0'], 'finished': True, 'run_file': 'run1576263383428000.xml'}\n"
     ]
    }
   ],
   "source": [
    "results = a.getResults(job_id['job_id'], verbose=True)"
   ]
  },
  {
   "cell_type": "code",
   "execution_count": 11,
   "metadata": {
    "scrolled": false
   },
   "outputs": [
    {
     "data": {
      "text/plain": [
       "[(0, 'qfn', 'curve'),\n",
       " (1, 'qfn2', 'curve'),\n",
       " (2, 'qfp', 'curve'),\n",
       " (3, 'qfp2', 'curve'),\n",
       " (4, 'p', 'curve'),\n",
       " (5, 'n', 'curve'),\n",
       " (6, 'Nd', 'curve'),\n",
       " (7, 'ro', 'curve'),\n",
       " (8, 'potx', 'curve'),\n",
       " (9, 'eix', 'curve'),\n",
       " (10, 'ecx', 'curve'),\n",
       " (11, 'evx', 'curve'),\n",
       " (12, 'ef', 'curve'),\n",
       " (13, 'cap', 'curve'),\n",
       " (14, 'iv', 'curve'),\n",
       " (15, 's1', 'sequence'),\n",
       " (16, 's0', 'sequence'),\n",
       " (17, 's2', 'sequence'),\n",
       " (18, 's3', 'sequence'),\n",
       " (19, 's4', 'sequence'),\n",
       " (20, 's5', 'sequence'),\n",
       " (21, 's6', 'sequence'),\n",
       " (22, 's7', 'sequence'),\n",
       " (23, 'potx_dda', 'curve'),\n",
       " (24, 'ef_ddae', 'curve'),\n",
       " (25, 'ro_ddaq', 'curve'),\n",
       " (26, 'params', 'string')]"
      ]
     },
     "execution_count": 11,
     "metadata": {},
     "output_type": "execute_result"
    }
   ],
   "source": [
    "[(i, r.id, r.type) for i,r in enumerate(results)]"
   ]
  },
  {
   "cell_type": "code",
   "execution_count": 12,
   "metadata": {},
   "outputs": [
    {
     "data": {
      "text/plain": [
       "('qfn', 'Efn - quasi Fermi level for electrons')"
      ]
     },
     "execution_count": 12,
     "metadata": {},
     "output_type": "execute_result"
    }
   ],
   "source": [
    "results[0].id, results[0].value[\"about\"][\"label\"]"
   ]
  },
  {
   "cell_type": "code",
   "execution_count": 22,
   "metadata": {},
   "outputs": [
    {
     "data": {
      "application/vnd.jupyter.widget-view+json": {
       "model_id": "919f0dd6eef340d1831e6726f46ca3a0",
       "version_major": 2,
       "version_minor": 0
      },
      "text/plain": [
       "FigureWidget({\n",
       "    'data': [{'type': 'scatter',\n",
       "              'uid': 'f775d02e-8726-420f-be88-6a4342aaac6f',\n",
       " …"
      ]
     },
     "metadata": {},
     "output_type": "display_data"
    }
   ],
   "source": [
    "from plotly.graph_objects import FigureWidget\n",
    "import numpy as np\n",
    "xy = results[0].value[\"component\"][\"xy\"]\n",
    "xy = np.fromstring(xy, sep=' ')\n",
    "xy = np.reshape(xy, (int(len(xy)/2) , 2))\n",
    "x = xy[:,0]\n",
    "y = xy[:,1]\n",
    "trace = {\n",
    "    'type':'scatter',\n",
    "    'x' : x,\n",
    "    'y' : y,\n",
    "}\n",
    "layout = {\n",
    "    'title':results[0].value[\"about\"][\"label\"],\n",
    "    'xaxis':{\n",
    "        'title':results[0].value[\"xaxis\"]['label']\n",
    "    },\n",
    "    'yaxis':{\n",
    "        'title':results[0].value[\"yaxis\"]['label']\n",
    "    },\n",
    "}\n",
    "fig = FigureWidget(data=[trace], layout=layout)\n",
    "fig"
   ]
  },
  {
   "cell_type": "code",
   "execution_count": null,
   "metadata": {},
   "outputs": [],
   "source": []
  },
  {
   "cell_type": "code",
   "execution_count": null,
   "metadata": {},
   "outputs": [],
   "source": []
  }
 ],
 "metadata": {
  "kernelspec": {
   "display_name": "Python 3",
   "language": "python",
   "name": "python3"
  },
  "language_info": {
   "codemirror_mode": {
    "name": "ipython",
    "version": 3
   },
   "file_extension": ".py",
   "mimetype": "text/x-python",
   "name": "python",
   "nbconvert_exporter": "python",
   "pygments_lexer": "ipython3",
   "version": "3.6.6"
  }
 },
 "nbformat": 4,
 "nbformat_minor": 2
}
